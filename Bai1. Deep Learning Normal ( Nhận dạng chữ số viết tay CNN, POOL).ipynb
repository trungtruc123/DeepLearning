{
 "cells": [
  {
   "cell_type": "code",
   "execution_count": 57,
   "metadata": {},
   "outputs": [],
   "source": [
    "import numpy as np\n",
    "from tensorflow import keras\n",
    "from tensorflow.keras.models import Sequential\n",
    "from tensorflow.keras.layers import Dense, Flatten\n",
    "from tensorflow.keras.datasets import mnist\n",
    "from tensorflow.keras.layers import Conv2D, MaxPooling2D\n",
    "# from tensorflow.keras import losses"
   ]
  },
  {
   "cell_type": "code",
   "execution_count": 60,
   "metadata": {},
   "outputs": [
    {
     "name": "stdout",
     "output_type": "stream",
     "text": [
      "(50000, 28, 28)\n",
      "(10000, 28, 28)\n"
     ]
    }
   ],
   "source": [
    "(X_train, y_train), (X_test, y_test) = mnist.load_data()\n",
    "\n",
    "X_val , y_val    = X_train[50000:60000, :], y_train[50000:60000]\n",
    "X_train, y_train = X_train[:50000, :], y_train[:50000]\n",
    "\n",
    "print(X_train.shape)\n",
    "print(X_val.shape)"
   ]
  },
  {
   "cell_type": "markdown",
   "metadata": {},
   "source": [
    "Dữ liệu input cho mô hình convolutional neural network là 1 tensor 4 chiều (N, W, H, D), trong bài này là ảnh xám nên W = H = 28, D = 1, N là số lượng ảnh cho mỗi lần training. Do dữ liệu ảnh ở trên có kích thước là (N, 28, 28) tức là (N, W, H) nên rần reshape lại thành kích thước N 28 28 * 1 để giống kích thước mà keras yêu cầu."
   ]
  },
  {
   "cell_type": "code",
   "execution_count": 61,
   "metadata": {},
   "outputs": [
    {
     "name": "stdout",
     "output_type": "stream",
     "text": [
      "Dữ liệu y ban đầu:  5\n",
      "Dữ liệu sau one-hot coding:  [0. 0. 0. 0. 0. 1. 0. 0. 0. 0.]\n"
     ]
    }
   ],
   "source": [
    "# Reshape hình dạng theo đúng kích thước mà keras yêu cầu : 4 chiều (N,W,H,D)\n",
    "X_train = X_train.reshape(X_train.shape[0], 28,28,1)\n",
    "X_val   = X_val.reshape(X_val.shape[0], 28, 28, 1)\n",
    "X_test  = X_test.reshape(X_test.shape[0], 28, 28, 1)\n",
    "\n",
    "# One -hot coding nhãn y \n",
    "Y_train = keras.utils.to_categorical(y_train, 10)\n",
    "Y_val   = keras.utils.to_categorical(y_val, 10)\n",
    "Y_test  = keras.utils.to_categorical(y_test, 10)\n",
    "print('Dữ liệu y ban đầu: ', y_train[0])\n",
    "print('Dữ liệu sau one-hot coding: ', Y_train[0])"
   ]
  },
  {
   "cell_type": "markdown",
   "metadata": {},
   "source": [
    "\n",
    "# Bước này định nghĩa model:\n",
    "\n",
    "0. Model = Sequential() để nói cho keras là ta sẽ xếp các layer lên nhau để tạo model. Ví dụ input -> CONV -> POOL -> CONV -> POOL -> FLATTEN -> FC -> OUTPUT\n",
    "1. Ở layer đầu tiên cần chỉ rõ input_shape của ảnh, input_shape = (W, H, D), ta dùng ảnh xám kích thước (28,28) nên input_shape = (28, 28, 1)\n",
    "2. Khi thêm Convolutional Layer ta cần chỉ rõ các tham số: K (số lượng layer), kernel size (W, H), hàm activation sử dụng. cấu trúc: model.add(Conv2D(K, (W, H), activation='tên_hàm_activation'))\n",
    "3. Khi thêm Maxpooling Layer cần chỉ rõ size của kernel, model.add(MaxPooling2D(pool_size=(W, H)))\n",
    "4. Bước Flatten chuyển từ tensor sang vector chỉ cần thêm flatten layer.\n",
    "5. Để thêm Fully Connected Layer (FC) cần chỉ rõ số lượng node trong layer và hàm activation sử dụng trong layer, cấu trúc: model.add(Dense(số_lượng_node activation='tên_hàm activation'))"
   ]
  },
  {
   "cell_type": "code",
   "execution_count": 62,
   "metadata": {},
   "outputs": [],
   "source": [
    "# Định nghĩa model\n",
    "model = Sequential()\n",
    "# thêm convolution layer (số layer k=32, (w,h)=(3,3), activation ='sigmoid')\n",
    "model.add(Conv2D(32, (3,3), activation ='sigmoid', input_shape =(28,28,1)))\n",
    "# thêm conv layer thứ 2\n",
    "model.add(Conv2D(32, (3,3), activation ='sigmoid'))\n",
    "# thêm layer 3: max pooling\n",
    "model.add(MaxPooling2D(pool_size= (2,2)))\n",
    "# thêm flattern\n",
    "model.add(Flatten())\n",
    "# thêm fully connect layer 1 : 128 node\n",
    "model.add(Dense(128, activation ='sigmoid'))\n",
    "# thêm FC 2 : 10 node ouput\n",
    "model.add(Dense(10, activation = 'softmax'))"
   ]
  },
  {
   "cell_type": "code",
   "execution_count": 63,
   "metadata": {},
   "outputs": [],
   "source": [
    "#  compile: chỉ rõ hàm mất mát loss function, optimizer =? (SGD, 'adam',...), metrics = ['?']\n",
    "model.compile(loss = 'categorical_crossentropy', optimizer ='adam', metrics = ['accuracy'])"
   ]
  },
  {
   "cell_type": "code",
   "execution_count": 83,
   "metadata": {},
   "outputs": [
    {
     "name": "stdout",
     "output_type": "stream",
     "text": [
      "Train on 50000 samples, validate on 10000 samples\n",
      "Epoch 1/10\n",
      "50000/50000 [==============================] - 71s 1ms/sample - loss: 0.0028 - acc: 0.9994 - val_loss: 0.0473 - val_acc: 0.9883\n",
      "Epoch 2/10\n",
      "50000/50000 [==============================] - 74s 1ms/sample - loss: 0.0031 - acc: 0.9993 - val_loss: 0.0424 - val_acc: 0.9901\n",
      "Epoch 3/10\n",
      "50000/50000 [==============================] - 82s 2ms/sample - loss: 0.0031 - acc: 0.9991 - val_loss: 0.0453 - val_acc: 0.9884\n",
      "Epoch 4/10\n",
      "50000/50000 [==============================] - 71s 1ms/sample - loss: 0.0012 - acc: 0.9998 - val_loss: 0.0411 - val_acc: 0.9901\n",
      "Epoch 5/10\n",
      "50000/50000 [==============================] - 70s 1ms/sample - loss: 0.0028 - acc: 0.9991 - val_loss: 0.0477 - val_acc: 0.9883\n",
      "Epoch 6/10\n",
      "50000/50000 [==============================] - 70s 1ms/sample - loss: 0.0012 - acc: 0.9998 - val_loss: 0.0413 - val_acc: 0.9906\n",
      "Epoch 7/10\n",
      "50000/50000 [==============================] - 70s 1ms/sample - loss: 0.0011 - acc: 0.9997 - val_loss: 0.0440 - val_acc: 0.9901\n",
      "Epoch 8/10\n",
      "50000/50000 [==============================] - 70s 1ms/sample - loss: 0.0010 - acc: 0.9998 - val_loss: 0.0499 - val_acc: 0.9890\n",
      "Epoch 9/10\n",
      "50000/50000 [==============================] - 72s 1ms/sample - loss: 0.0025 - acc: 0.9992 - val_loss: 0.0448 - val_acc: 0.9895\n",
      "Epoch 10/10\n",
      "50000/50000 [==============================] - 70s 1ms/sample - loss: 2.1168e-04 - acc: 1.0000 - val_loss: 0.0442 - val_acc: 0.9907\n"
     ]
    }
   ],
   "source": [
    "# Thực hiện train với model data\n",
    "M = model.fit(X_train, Y_train, validation_data = (X_val, Y_val), batch_size =32, epochs =10, verbose =1)"
   ]
  },
  {
   "cell_type": "code",
   "execution_count": 87,
   "metadata": {},
   "outputs": [
    {
     "name": "stdout",
     "output_type": "stream",
     "text": [
      "_________________________________________________________________\n",
      "Layer (type)                 Output Shape              Param #   \n",
      "=================================================================\n",
      "conv2d_15 (Conv2D)           (None, 26, 26, 32)        320       \n",
      "_________________________________________________________________\n",
      "conv2d_16 (Conv2D)           (None, 24, 24, 32)        9248      \n",
      "_________________________________________________________________\n",
      "max_pooling2d_6 (MaxPooling2 (None, 12, 12, 32)        0         \n",
      "_________________________________________________________________\n",
      "flatten_5 (Flatten)          (None, 4608)              0         \n",
      "_________________________________________________________________\n",
      "dense_8 (Dense)              (None, 128)               589952    \n",
      "_________________________________________________________________\n",
      "dense_9 (Dense)              (None, 10)                1290      \n",
      "=================================================================\n",
      "Total params: 600,810\n",
      "Trainable params: 600,810\n",
      "Non-trainable params: 0\n",
      "_________________________________________________________________\n"
     ]
    }
   ],
   "source": [
    "model.summary()"
   ]
  },
  {
   "cell_type": "code",
   "execution_count": 84,
   "metadata": {},
   "outputs": [
    {
     "data": {
      "image/png": "[encoded data removed]",
      "text/plain": [
       "<Figure size 432x288 with 1 Axes>"
      ]
     },
     "metadata": {
      "needs_background": "light"
     },
     "output_type": "display_data"
    }
   ],
   "source": [
    "# Vẽ đồ thị hàm mất mát loss, và accuracy \n",
    "num_epochs = 10\n",
    "import matplotlib.pyplot as plt\n",
    "\n",
    "plt.plot(np.arange(0,num_epochs), M.history['loss'], label ='loss training')\n",
    "plt.plot(np.arange(0,num_epochs), M.history['val_loss'], label ='loss validation')\n",
    "plt.plot(np.arange(0,num_epochs), M.history['acc'], label ='accuracy of training')\n",
    "plt.plot(np.arange(0,num_epochs), M.history['val_acc'], label ='accuracy of validation')\n",
    "plt.title('Accuracy and loss')\n",
    "plt.xlabel('Epoch')\n",
    "plt.ylabel('loss, accuracy')\n",
    "plt.show()"
   ]
  },
  {
   "cell_type": "code",
   "execution_count": 85,
   "metadata": {},
   "outputs": [
    {
     "name": "stdout",
     "output_type": "stream",
     "text": [
      "10000/10000 [==============================] - 4s 415us/sample - loss: 0.0392 - acc: 0.9903\n"
     ]
    },
    {
     "data": {
      "text/plain": [
       "[0.03920860736566594, 0.9903]"
      ]
     },
     "execution_count": 85,
     "metadata": {},
     "output_type": "execute_result"
    }
   ],
   "source": [
    "# Đánh giá mô hình đối với dữ liệu test\n",
    "model.evaluate(X_test, Y_test)"
   ]
  },
  {
   "cell_type": "code",
   "execution_count": 86,
   "metadata": {},
   "outputs": [
    {
     "name": "stdout",
     "output_type": "stream",
     "text": [
      " class of Xtest[2] la:  1\n"
     ]
    },
    {
     "data": {
      "image/png": "[encoded data removed]",
      "text/plain": [
       "<Figure size 432x288 with 1 Axes>"
      ]
     },
     "metadata": {
      "needs_background": "light"
     },
     "output_type": "display_data"
    }
   ],
   "source": [
    "# Dùng mô hình để dự đoán X_test[1]\n",
    "plt.imshow(X_test[2].reshape(28, 28), cmap ='gray')\n",
    "y_pred = model.predict(X_test[2].reshape(1,28,28,1))\n",
    "print(' class of Xtest[2] la: ', np.argmax(y_pred))"
   ]
  },
  {
   "cell_type": "markdown",
   "metadata": {},
   "source": [
    "# Lưu model lại để sau chỉ cần mở file model_train\n",
    "không cần train lại từ đầu"
   ]
  },
  {
   "cell_type": "code",
   "execution_count": 96,
   "metadata": {},
   "outputs": [
    {
     "name": "stdout",
     "output_type": "stream",
     "text": [
      "du doan tu model load lai:  7\n"
     ]
    },
    {
     "data": {
      "text/plain": [
       "<matplotlib.image.AxesImage at 0x1e63b4352e8>"
      ]
     },
     "execution_count": 96,
     "metadata": {},
     "output_type": "execute_result"
    },
    {
     "data": {
      "image/png": "[encoded data removed]",
      "text/plain": [
       "<Figure size 432x288 with 1 Axes>"
      ]
     },
     "metadata": {
      "needs_background": "light"
     },
     "output_type": "display_data"
    }
   ],
   "source": [
    "model.save('model_train_mnist.h5')\n",
    "\n",
    "# Load model mà không cần train lại mô hình\n",
    "from tensorflow.keras.models import load_model\n",
    "\n",
    "model_load = load_model('model_train_mnist.h5')\n",
    "y_predict = model_load.predict(X_test[0].reshape(1,28,28,1))\n",
    "print('du doan tu model load lai: ', np.argmax(y_predict))\n",
    "plt.imshow(X_test[0].reshape(28,28))"
   ]
  }
 ],
 "metadata": {
  "kernelspec": {
   "display_name": "Python 3",
   "language": "python",
   "name": "python3"
  },
  "language_info": {
   "codemirror_mode": {
    "name": "ipython",
    "version": 3
   },
   "file_extension": ".py",
   "mimetype": "text/x-python",
   "name": "python",
   "nbconvert_exporter": "python",
   "pygments_lexer": "ipython3",
   "version": "3.7.1"
  }
 },
 "nbformat": 4,
 "nbformat_minor": 2
}
